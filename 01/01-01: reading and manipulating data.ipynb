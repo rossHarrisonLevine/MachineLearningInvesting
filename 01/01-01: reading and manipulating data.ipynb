{
 "cells": [
  {
   "cell_type": "code",
   "execution_count": 17,
   "metadata": {
    "collapsed": true
   },
   "outputs": [],
   "source": [
    "import pandas as pd"
   ]
  },
  {
   "cell_type": "code",
   "execution_count": 21,
   "metadata": {
    "collapsed": true
   },
   "outputs": [],
   "source": [
    "def test_run():\n",
    "    df = pd.read_csv(\"data/AAPL.csv\")\n",
    "    print('inclusive:non-inclusive')\n",
    "    print(df[10:21])\n",
    "    print('this is the first 5 rows')\n",
    "    print(df.head())"
   ]
  },
  {
   "cell_type": "code",
   "execution_count": 22,
   "metadata": {},
   "outputs": [
    {
     "name": "stdout",
     "output_type": "stream",
     "text": [
      "inclusive:non-inclusive\n",
      "          Date        Open        High         Low       Close   Adj Close  \\\n",
      "10  2017-11-28  174.300003  174.869995  171.860001  173.070007  173.070007   \n",
      "11  2017-11-29  172.630005  172.919998  167.160004  169.479996  169.479996   \n",
      "12  2017-11-30  170.429993  172.139999  168.440002  171.850006  171.850006   \n",
      "13  2017-12-01  169.949997  171.669998  168.500000  171.050003  171.050003   \n",
      "14  2017-12-04  172.479996  172.619995  169.630005  169.800003  169.800003   \n",
      "15  2017-12-05  169.059998  171.520004  168.399994  169.639999  169.639999   \n",
      "16  2017-12-06  167.500000  170.199997  166.460007  169.009995  169.009995   \n",
      "17  2017-12-07  169.029999  170.440002  168.910004  169.320007  169.320007   \n",
      "18  2017-12-08  170.490005  171.000000  168.820007  169.369995  169.369995   \n",
      "19  2017-12-11  169.199997  172.889999  168.789993  172.669998  172.669998   \n",
      "20  2017-12-12  172.149994  172.389999  171.460999  171.699997  171.699997   \n",
      "\n",
      "      Volume  \n",
      "10  26428800  \n",
      "11  41666400  \n",
      "12  41527200  \n",
      "13  39759300  \n",
      "14  32542400  \n",
      "15  27350200  \n",
      "16  28560000  \n",
      "17  25673300  \n",
      "18  23355200  \n",
      "19  33306900  \n",
      "20  18269303  \n",
      "this is the first 5 rows\n",
      "         Date        Open        High         Low       Close   Adj Close  \\\n",
      "0  2017-11-13  173.500000  174.500000  173.399994  173.970001  173.970001   \n",
      "1  2017-11-14  173.039993  173.479996  171.179993  171.339996  171.339996   \n",
      "2  2017-11-15  169.970001  170.320007  168.380005  169.080002  169.080002   \n",
      "3  2017-11-16  171.179993  171.869995  170.300003  171.100006  171.100006   \n",
      "4  2017-11-17  171.039993  171.389999  169.639999  170.149994  170.149994   \n",
      "\n",
      "     Volume  \n",
      "0  16982100  \n",
      "1  24782500  \n",
      "2  29158100  \n",
      "3  23637500  \n",
      "4  21899500  \n"
     ]
    }
   ],
   "source": [
    "if __name__ == \"__main__\":\n",
    "    test_run()"
   ]
  },
  {
   "cell_type": "code",
   "execution_count": 23,
   "metadata": {
    "collapsed": true
   },
   "outputs": [],
   "source": [
    "def get_max_close(symbol):\n",
    "    df = pd.read_csv(\"data/{}.csv\".format(symbol))\n",
    "    return df['Close'].max()"
   ]
  },
  {
   "cell_type": "code",
   "execution_count": 24,
   "metadata": {
    "collapsed": true
   },
   "outputs": [],
   "source": [
    "def max_run():\n",
    "    for symbol in ['AAPL', 'IBM']:\n",
    "        print(\"Max close\")\n",
    "        print(symbol,get_max_close(symbol))\n",
    "    "
   ]
  },
  {
   "cell_type": "code",
   "execution_count": 16,
   "metadata": {},
   "outputs": [
    {
     "name": "stdout",
     "output_type": "stream",
     "text": [
      "Max close\n",
      "AAPL 174.970001\n",
      "Max close\n",
      "IBM 156.740005\n"
     ]
    }
   ],
   "source": [
    "if __name__ == \"__main__\":\n",
    "    max_run()"
   ]
  },
  {
   "cell_type": "code",
   "execution_count": 9,
   "metadata": {
    "collapsed": true
   },
   "outputs": [],
   "source": [
    "import matplotlib.pyplot as plt"
   ]
  },
  {
   "cell_type": "code",
   "execution_count": 27,
   "metadata": {
    "collapsed": true
   },
   "outputs": [],
   "source": [
    "def plot_run():\n",
    "    df = pd.read_csv(\"data/AAPL.csv\")\n",
    "    print(df['Adj Close'])\n",
    "    df[['Close','Open']].plot()\n",
    "    plt.show()"
   ]
  },
  {
   "cell_type": "code",
   "execution_count": 28,
   "metadata": {},
   "outputs": [
    {
     "name": "stdout",
     "output_type": "stream",
     "text": [
      "0     173.970001\n",
      "1     171.339996\n",
      "2     169.080002\n",
      "3     171.100006\n",
      "4     170.149994\n",
      "5     169.979996\n",
      "6     173.139999\n",
      "7     174.960007\n",
      "8     174.970001\n",
      "9     174.089996\n",
      "10    173.070007\n",
      "11    169.479996\n",
      "12    171.850006\n",
      "13    171.050003\n",
      "14    169.800003\n",
      "15    169.639999\n",
      "16    169.009995\n",
      "17    169.320007\n",
      "18    169.369995\n",
      "19    172.669998\n",
      "20    171.699997\n",
      "Name: Adj Close, dtype: float64\n"
     ]
    },
    {
     "data": {
      "image/png": "[encoded data removed]",
      "text/plain": [
       "<matplotlib.figure.Figure at 0x11120fa20>"
      ]
     },
     "metadata": {},
     "output_type": "display_data"
    }
   ],
   "source": [
    "if __name__ == \"__main__\":\n",
    "    plot_run()"
   ]
  },
  {
   "cell_type": "code",
   "execution_count": null,
   "metadata": {
    "collapsed": true
   },
   "outputs": [],
   "source": []
  }
 ],
 "metadata": {
  "kernelspec": {
   "display_name": "Python 3",
   "language": "python",
   "name": "python3"
  },
  "language_info": {
   "codemirror_mode": {
    "name": "ipython",
    "version": 3
   },
   "file_extension": ".py",
   "mimetype": "text/x-python",
   "name": "python",
   "nbconvert_exporter": "python",
   "pygments_lexer": "ipython3",
   "version": "3.5.4"
  }
 },
 "nbformat": 4,
 "nbformat_minor": 2
}
