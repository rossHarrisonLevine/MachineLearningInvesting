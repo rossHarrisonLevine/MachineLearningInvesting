{
 "cells": [
  {
   "cell_type": "code",
   "execution_count": 1,
   "metadata": {
    "collapsed": true
   },
   "outputs": [],
   "source": [
    "import numpy as np"
   ]
  },
  {
   "cell_type": "code",
   "execution_count": 30,
   "metadata": {},
   "outputs": [],
   "source": [
    "#creating an array:\n",
    "def make_ary():\n",
    "    a = [2,3,4]\n",
    "    b = [5,6,7]\n",
    "    print(np.array([a,b]))"
   ]
  },
  {
   "cell_type": "code",
   "execution_count": 60,
   "metadata": {},
   "outputs": [],
   "source": [
    "def initial_values():\n",
    "    print(np.empty(5))\n",
    "    print(np.empty([5,4]))\n",
    "    print(np.empty([5,4,3]))\n",
    "    #the empty array contains whatever is in the computers memory\n",
    "    print(np.ones([5,4]))\n",
    "    #np.ones defaults np.float32 but we can make it output np.int8 with dtype=np.int8\n",
    "    print(np.ones([2,2], dtype=np.int8))\n"
   ]
  },
  {
   "cell_type": "code",
   "execution_count": 61,
   "metadata": {},
   "outputs": [
    {
     "name": "stdout",
     "output_type": "stream",
     "text": [
      "[ -1.49166815e-154  -1.49166815e-154   2.27751254e-314   0.00000000e+000\n",
      "  -1.49166815e-154]\n",
      "[[ 1.  1.  1.  1.]\n",
      " [ 1.  1.  1.  1.]\n",
      " [ 1.  1.  1.  1.]\n",
      " [ 1.  1.  1.  1.]\n",
      " [ 1.  1.  1.  1.]]\n",
      "[[[ -1.49166815e-154  -1.49166815e-154   2.21657512e-314]\n",
      "  [  2.47032823e-323   0.00000000e+000   0.00000000e+000]\n",
      "  [  0.00000000e+000   2.23401485e-314   0.00000000e+000]\n",
      "  [  0.00000000e+000   0.00000000e+000   0.00000000e+000]]\n",
      "\n",
      " [[  0.00000000e+000  -2.00009736e-266   2.23348987e-314]\n",
      "  [  2.27802358e-314   0.00000000e+000   0.00000000e+000]\n",
      "  [  0.00000000e+000   0.00000000e+000   0.00000000e+000]\n",
      "  [  0.00000000e+000   0.00000000e+000   0.00000000e+000]]\n",
      "\n",
      " [[  0.00000000e+000   0.00000000e+000   0.00000000e+000]\n",
      "  [  0.00000000e+000   2.27761318e-314   0.00000000e+000]\n",
      "  [  0.00000000e+000   2.51078366e-261   2.22578919e-314]\n",
      "  [  2.23488267e-314   7.11454530e-322   0.00000000e+000]]\n",
      "\n",
      " [[  0.00000000e+000   5.74788206e-230   2.23379972e-314]\n",
      "  [  2.22006026e-314  -1.15042435e+264   2.22428533e-314]\n",
      "  [  2.23456869e-314   9.66011732e+001   2.22291469e-314]\n",
      "  [  2.27776412e-314   0.00000000e+000   0.00000000e+000]]\n",
      "\n",
      " [[  0.00000000e+000  -5.97449375e+144   2.21929430e-314]\n",
      "  [  2.22476639e-314  -1.49166815e-154  -1.49457219e-154]\n",
      "  [  2.21738458e-314   2.22009796e-314   0.00000000e+000]\n",
      "  [  2.21739161e-314   0.00000000e+000   2.21744159e-314]]]\n",
      "[[ 1.  1.  1.  1.]\n",
      " [ 1.  1.  1.  1.]\n",
      " [ 1.  1.  1.  1.]\n",
      " [ 1.  1.  1.  1.]\n",
      " [ 1.  1.  1.  1.]]\n",
      "[[1 1]\n",
      " [1 1]]\n"
     ]
    }
   ],
   "source": [
    "if __name__ == \"__main__\":\n",
    "    #make_ary()\n",
    "    initial_values()"
   ]
  },
  {
   "cell_type": "code",
   "execution_count": null,
   "metadata": {
    "collapsed": true
   },
   "outputs": [],
   "source": []
  }
 ],
 "metadata": {
  "kernelspec": {
   "display_name": "Python 3",
   "language": "python",
   "name": "python3"
  },
  "language_info": {
   "codemirror_mode": {
    "name": "ipython",
    "version": 3
   },
   "file_extension": ".py",
   "mimetype": "text/x-python",
   "name": "python",
   "nbconvert_exporter": "python",
   "pygments_lexer": "ipython3",
   "version": "3.5.4"
  }
 },
 "nbformat": 4,
 "nbformat_minor": 2
}
