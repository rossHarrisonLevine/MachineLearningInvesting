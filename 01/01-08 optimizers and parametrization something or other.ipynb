{
 "cells": [
  {
   "cell_type": "code",
   "execution_count": 1,
   "metadata": {
    "collapsed": true
   },
   "outputs": [],
   "source": [
    "import pandas as pd\n",
    "import matplotlib.pyplot as plt\n",
    "import numpy as np\n",
    "import scipy.optimize as spo"
   ]
  },
  {
   "cell_type": "code",
   "execution_count": 2,
   "metadata": {
    "collapsed": true
   },
   "outputs": [],
   "source": [
    "def f(X):\n",
    "    Y = (X - 1.5)**2 + 0.5\n",
    "    print(\"X = {}, Y = {}\".format(X,Y))\n",
    "    return Y"
   ]
  },
  {
   "cell_type": "code",
   "execution_count": 5,
   "metadata": {
    "collapsed": true
   },
   "outputs": [],
   "source": [
    "def minimize():\n",
    "    Xguess = 2.0\n",
    "    min_result = spo.minimize(f, Xguess, method='SLSQP', options={'disp': True})\n",
    "    print(\"Minima found at:\")\n",
    "    print(\"X = {}, Y = {}\".format(min_result.x, min_result.fun))\n",
    "    \n",
    "    #plot function values, mark minima\n",
    "    Xplot = np.linspace(.5, 2.5, 21)\n",
    "    Yplot = f(Xplot)\n",
    "    plt.plot(Xplot, Yplot)\n",
    "    plt.plot(min_result.x, min_result.fun, 'ro')\n",
    "    plt.title(\"Minima of an objective function\")\n",
    "    plt.show()"
   ]
  },
  {
   "cell_type": "code",
   "execution_count": 6,
   "metadata": {},
   "outputs": [
    {
     "name": "stdout",
     "output_type": "stream",
     "text": [
      "X = [ 2.], Y = [ 0.75]\n",
      "X = [ 2.], Y = [ 0.75]\n",
      "X = [ 2.00000001], Y = [ 0.75000001]\n",
      "X = [ 0.99999999], Y = [ 0.75000001]\n",
      "X = [ 1.5], Y = [ 0.5]\n",
      "X = [ 1.5], Y = [ 0.5]\n",
      "X = [ 1.50000001], Y = [ 0.5]\n",
      "Optimization terminated successfully.    (Exit mode 0)\n",
      "            Current function value: 0.5\n",
      "            Iterations: 2\n",
      "            Function evaluations: 7\n",
      "            Gradient evaluations: 2\n",
      "Minima found at:\n",
      "X = [ 1.5], Y = 0.5\n",
      "X = [ 0.5  0.6  0.7  0.8  0.9  1.   1.1  1.2  1.3  1.4  1.5  1.6  1.7  1.8  1.9\n",
      "  2.   2.1  2.2  2.3  2.4  2.5], Y = [ 1.5   1.31  1.14  0.99  0.86  0.75  0.66  0.59  0.54  0.51  0.5   0.51\n",
      "  0.54  0.59  0.66  0.75  0.86  0.99  1.14  1.31  1.5 ]\n"
     ]
    },
    {
     "data": {
      "image/png": "[encoded data removed]",
      "text/plain": [
       "<matplotlib.figure.Figure at 0x1096cfd68>"
      ]
     },
     "metadata": {},
     "output_type": "display_data"
    }
   ],
   "source": [
    "if __name__ == \"__main__\":\n",
    "    minimize()"
   ]
  },
  {
   "cell_type": "code",
   "execution_count": 5,
   "metadata": {
    "collapsed": true
   },
   "outputs": [],
   "source": [
    "def error(line, data):\n",
    "    \"\"\"Compute error between given line model and observed data\n",
    "    \n",
    "    Parameters\n",
    "    -----------\n",
    "    line: tuple/list/array (C0,C1) where C0 is slope and C1 is Y-intercept\n",
    "    data: 2D array where each row is a point (x,y) \n",
    "    \n",
    "    Returns error as a single real value\n",
    "    \"\"\"\n",
    "    #Metric: sum of squared Y-axis differences\n",
    "    err = np.sum((data[:,1] - (line[0] * data[:,0] + line[1])) ** 2)\n",
    "    return err"
   ]
  },
  {
   "cell_type": "code",
   "execution_count": 6,
   "metadata": {
    "collapsed": true
   },
   "outputs": [],
   "source": [
    "def fit_line(data, error_func):\n",
    "    \"\"\"Fit a line to given data, using a supplied error function.\n",
    "    \n",
    "    Parameters\n",
    "    -----------\n",
    "    data: 2D array where each row is a point (X0,Y)\n",
    "    error_func: function that computes the error between a line and observed data\n",
    "    \n",
    "    Returns line that minimizes the error function.\n",
    "    \"\"\"\n",
    "    \n",
    "    #Generate initial guess for the line model\n",
    "    l = np.float32([0, np.mean(data[:,1])]) #slope = 0, intercept = mean(y values)\n",
    "    \n",
    "    #plot initial guess\n",
    "    x_ends = np.float32([-5,5])\n",
    "    plt.plot(x_ends, l[0] * x_ends + l[1], 'm--', linewidth = 2.0, label = \"Initial Guess\")\n",
    "    \n",
    "    #call optimizer to minimize error function\n",
    "    result = spo.minimize(error_func,l,args=(data,), method = 'SLSQP', options={'disp':True})\n",
    "    return result.x"
   ]
  },
  {
   "cell_type": "code",
   "execution_count": 7,
   "metadata": {
    "collapsed": true
   },
   "outputs": [],
   "source": [
    "def line_fit_test():\n",
    "    #define og line\n",
    "    l_og = np.float32([4,2])\n",
    "    print(\"Og line: C0 = {}, C1 = {}\".format(l_og[0], l_og[1]))\n",
    "    Xog = np.linspace(0, 10, 21)\n",
    "    Yog = l_og[0] * Xog + l_og[1]\n",
    "    plt.plot(Xog,Yog, 'b--', linewidth=2.0, label = \"Og Line\")\n",
    "    \n",
    "    #generate noise\n",
    "    noise_sigma = 3.0\n",
    "    noise = np.random.normal(0, noise_sigma, Yog.shape)\n",
    "    data = np.asarray([Xog, Yog + noise]).T\n",
    "    plt.plot(data[:,0], data[:, 1], 'go', label = \"Data Points\")\n",
    "    \n",
    "    #Try to fit a line to this data\n",
    "    l_fit = fit_line(data, error)\n",
    "    print(\"Fitted line: c0 = {}, C1 = {}\".format(l_fit[0], l_fit[1]))\n",
    "    plt.plot(data[:,0], l_fit[0] * data[:,0] + l_fit[1], 'r--', linewidth = 2.0, label = \"try to fit\")\n",
    "    plt.show()"
   ]
  },
  {
   "cell_type": "code",
   "execution_count": 8,
   "metadata": {},
   "outputs": [
    {
     "name": "stdout",
     "output_type": "stream",
     "text": [
      "Og line: C0 = 4.0, C1 = 2.0\n",
      "Optimization terminated successfully.    (Exit mode 0)\n",
      "            Current function value: 178.3588945380264\n",
      "            Iterations: 5\n",
      "            Function evaluations: 24\n",
      "            Gradient evaluations: 5\n",
      "Fitted line: c0 = 3.9641239387046783, C1 = 2.381848092925644\n"
     ]
    },
    {
     "data": {
      "image/png": "[encoded data removed]",
      "text/plain": [
       "<matplotlib.figure.Figure at 0x10cc1af60>"
      ]
     },
     "metadata": {},
     "output_type": "display_data"
    }
   ],
   "source": [
    "if __name__ == '__main__':\n",
    "    line_fit_test()"
   ]
  },
  {
   "cell_type": "code",
   "execution_count": 10,
   "metadata": {
    "collapsed": true
   },
   "outputs": [],
   "source": [
    "def error_poly(C,data):\n",
    "    \"\"\"\n",
    "    Compute error betwen given polynomial and observed data.\n",
    "    \n",
    "    Parameters\n",
    "    ----------\n",
    "    C: numpy.poly1d object or equivalent array representing polynomial coefs\n",
    "    data: 2D array where each row is a point (x,y)\n",
    "    \n",
    "    Returns error as a single real value.\n",
    "    \"\"\"\n",
    "    \n",
    "    #Metric: Sum of squared Y-axis differences\n",
    "    err = np.sum((data[:,1] - np.polyval(C, data[:,0])) ** 2)\n",
    "    return err\n",
    "\n",
    "def fit_poly(data, error_func, degree = 3):\n",
    "    \"\"\"Fit a polynomial to given data, usinng supplied error function.\n",
    "    \n",
    "    Parameters\n",
    "    ----------\n",
    "    data: 2D array where each row is a point (x,y)\n",
    "    error_func: function that computes error betwen given polynomial and observed data.\n",
    "    \n",
    "    Returns polynomial that minimizes the error function.\"\"\"\n",
    "    \n",
    "    #Generate initial guess for polynomial model (all coefs = 1)\n",
    "    Cguess = np.poly1d(np.ones(degree + 1, dtype = np.float32))\n",
    "    \n",
    "    #plot initial guess\n",
    "    x = np.linspace(-5,5,21)\n",
    "    plt.plot(x, np.polyval(guess,x), 'm--', linewidth = 2.0, label = \"Inital Guess\")\n",
    "    \n",
    "    #call optimizer to minimize error funciton\n",
    "    result = spo.minimize(error_func, Cguess, args=(data,), method = 'SLSQP', options={'disp':True})\n",
    "    return np.poly1d(result.x) #converrt optimal result into a poly1D object"
   ]
  },
  {
   "cell_type": "code",
   "execution_count": null,
   "metadata": {
    "collapsed": true
   },
   "outputs": [],
   "source": []
  },
  {
   "cell_type": "code",
   "execution_count": null,
   "metadata": {
    "collapsed": true
   },
   "outputs": [],
   "source": []
  }
 ],
 "metadata": {
  "kernelspec": {
   "display_name": "Python 3",
   "language": "python",
   "name": "python3"
  },
  "language_info": {
   "codemirror_mode": {
    "name": "ipython",
    "version": 3
   },
   "file_extension": ".py",
   "mimetype": "text/x-python",
   "name": "python",
   "nbconvert_exporter": "python",
   "pygments_lexer": "ipython3",
   "version": "3.6.3"
  }
 },
 "nbformat": 4,
 "nbformat_minor": 2
}
