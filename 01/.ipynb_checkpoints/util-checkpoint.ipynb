{
 "cells": [
  {
   "cell_type": "code",
   "execution_count": 99,
   "metadata": {
    "collapsed": true
   },
   "outputs": [],
   "source": [
    "import matplotlib.pyplot as plt\n",
    "import os\n",
    "import pandas as pd\n",
    "import numpy as np"
   ]
  },
  {
   "cell_type": "code",
   "execution_count": 100,
   "metadata": {
    "collapsed": true
   },
   "outputs": [],
   "source": [
    "def symbol_to_path(symbol,base_dir=\"data\"):\n",
    "    #return path to cvs\n",
    "    return os.path.join(base_dir,\"{}.csv\".format(str(symbol)))"
   ]
  },
  {
   "cell_type": "code",
   "execution_count": 101,
   "metadata": {
    "collapsed": true
   },
   "outputs": [],
   "source": [
    "def get_data(symbols,dates):\n",
    "    df = pd.DataFrame(index=dates)\n",
    "    if 'SPY' not in symbols: #add SPY for referanece\n",
    "        symbols.insert(0,'SPY')\n",
    "    \n",
    "    for symbol in symbols:\n",
    "        df_tmp = pd.read_csv(symbol_to_path(symbol),\n",
    "                             index_col='Date',\n",
    "                             parse_dates=True,\n",
    "                             usecols=['Date','Adj Close'],\n",
    "                             na_values=['nan'])\n",
    "        df_tmp = df_tmp.rename(columns={'Adj Close': symbol})\n",
    "        df = df.join(df_tmp)\n",
    "        if symbol == 'SPY':\n",
    "            df = df.dropna(subset=['SPY'])\n",
    "    return df"
   ]
  },
  {
   "cell_type": "code",
   "execution_count": 102,
   "metadata": {
    "collapsed": true
   },
   "outputs": [],
   "source": [
    "def plot_data(df, title=\"Stock Prices\"):\n",
    "    ax = df.plot(title=title)\n",
    "    ax.set_xlabel(\"Date\")\n",
    "    ax.set_ylabel(\"Price\")\n",
    "    plt.show()"
   ]
  },
  {
   "cell_type": "code",
   "execution_count": 103,
   "metadata": {
    "collapsed": true
   },
   "outputs": [],
   "source": [
    "def plot_selected(df,columns,start_index,end_index):\n",
    "    #given the start and end dates, plot the relevant info\n",
    "    plot_data(df.ix[start_index:end_index,columns], title=\"Selected Data\")"
   ]
  },
  {
   "cell_type": "code",
   "execution_count": 104,
   "metadata": {
    "collapsed": true
   },
   "outputs": [],
   "source": [
    "#makes all graphs start at 1\n",
    "def normalize_data(df):\n",
    "    return df / df.iloc[0,:]"
   ]
  },
  {
   "cell_type": "code",
   "execution_count": 105,
   "metadata": {
    "collapsed": true
   },
   "outputs": [],
   "source": [
    "def get_rolling_mean(values,window):\n",
    "    return pd.rolling_mean(values,window=window)"
   ]
  },
  {
   "cell_type": "code",
   "execution_count": 106,
   "metadata": {
    "collapsed": true
   },
   "outputs": [],
   "source": [
    "def get_rolling_std(values,window):\n",
    "    return pd.rolling_std(values,window=window)"
   ]
  },
  {
   "cell_type": "code",
   "execution_count": 107,
   "metadata": {
    "collapsed": true
   },
   "outputs": [],
   "source": [
    "def get_bollinger_bands(rm,rstd):\n",
    "    upper_band = 2*rstd+rm\n",
    "    lower_band = -2*rstd+rm\n",
    "    return upper_band, lower_band"
   ]
  },
  {
   "cell_type": "code",
   "execution_count": 108,
   "metadata": {
    "collapsed": true
   },
   "outputs": [],
   "source": [
    "def compute_daily_returns(df):\n",
    "    daily_returns = (df / df.shift(1)) - 1\n",
    "    daily_returns.ix[0,:] = 0\n",
    "    return daily_returns"
   ]
  },
  {
   "cell_type": "code",
   "execution_count": 109,
   "metadata": {
    "collapsed": true
   },
   "outputs": [],
   "source": [
    "#fills in any missing values\n",
    "def fill_missing_values(df_data):\n",
    "    df_data.fillna(method='ffill', inplace=True)\n",
    "    df_data.fillna(method='bfill', inplace=True)"
   ]
  },
  {
   "cell_type": "code",
   "execution_count": 160,
   "metadata": {
    "collapsed": true
   },
   "outputs": [],
   "source": [
    "def port_val(start_val, dates, symbols, allocs):\n",
    "    if \"SPY\" not in symbols:\n",
    "        allocs.insert(0,0)\n",
    "    #make a df of the adj close\n",
    "    prices = get_data(symbols, dates)\n",
    "    fill_missing_values(prices)\n",
    "    #normalize data\n",
    "    norm = normalize_data(prices)\n",
    "    #find allocated ammounts\n",
    "    alloced = norm * allocs\n",
    "    #get the position values\n",
    "    pos_vals = alloced * start_val\n",
    "    #calculate portfolio values\n",
    "    port_vals = pos_vals.sum(axis=1)\n",
    "    return port_vals"
   ]
  },
  {
   "cell_type": "code",
   "execution_count": 161,
   "metadata": {
    "collapsed": true
   },
   "outputs": [],
   "source": [
    "def cum_ret(port_vals):\n",
    "    #division of second to last be first\n",
    "    return (port_vals[-1] / port_vals[0]) - 1"
   ]
  },
  {
   "cell_type": "code",
   "execution_count": null,
   "metadata": {
    "collapsed": true
   },
   "outputs": [],
   "source": [
    "def avg_daily_ret(daily_ret):\n",
    "    return daily_ret.mean()"
   ]
  },
  {
   "cell_type": "code",
   "execution_count": 162,
   "metadata": {
    "collapsed": true
   },
   "outputs": [],
   "source": [
    "def std_daily_ret(daily_ret):\n",
    "    return daily_ret.std()"
   ]
  },
  {
   "cell_type": "code",
   "execution_count": 164,
   "metadata": {
    "collapsed": true
   },
   "outputs": [],
   "source": [
    "def sharpe_ratio(daily_rets, time=\"balls\"):\n",
    "    return k * (avg_daily_ret(daily_rets)/std_daily_rets(daily_rets))"
   ]
  }
 ],
 "metadata": {
  "kernelspec": {
   "display_name": "Python 3",
   "language": "python",
   "name": "python3"
  },
  "language_info": {
   "codemirror_mode": {
    "name": "ipython",
    "version": 3
   },
   "file_extension": ".py",
   "mimetype": "text/x-python",
   "name": "python",
   "nbconvert_exporter": "python",
   "pygments_lexer": "ipython3",
   "version": "3.5.4"
  }
 },
 "nbformat": 4,
 "nbformat_minor": 2
}
