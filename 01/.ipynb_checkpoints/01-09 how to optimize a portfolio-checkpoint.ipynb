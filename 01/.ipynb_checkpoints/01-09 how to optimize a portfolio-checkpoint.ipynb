{
 "cells": [
  {
   "cell_type": "code",
   "execution_count": 2,
   "metadata": {
    "collapsed": true
   },
   "outputs": [],
   "source": [
    "import util as ut\n",
    "import pandas as pd"
   ]
  },
  {
   "cell_type": "code",
   "execution_count": 7,
   "metadata": {
    "collapsed": true
   },
   "outputs": [],
   "source": [
    "def find_optimal_allocations(prices):\n",
    "    sharpe = ut.sharpe_ratio(dr)\n",
    "    s_allocs = allocs * sharpe\n",
    "    total_sharpe = sum(s_allocs)\n",
    "    print(total_sharpe)"
   ]
  },
  {
   "cell_type": "code",
   "execution_count": 12,
   "metadata": {},
   "outputs": [
    {
     "data": {
      "text/plain": [
       "'\\n    # Get optimal allocations\\n    allocs = find_optimal_allocations(prices)\\n    allocs = allocs / np.sum(allocs)  # normalize allocations, if they don\\'t sum to 1.0\\n\\n    # Get daily portfolio value (already normalized since we use default start_val=1.0)\\n    port_val = get_portfolio_value(prices, allocs)\\n\\n    # Get portfolio statistics (note: std_daily_ret = volatility)\\n    cum_ret, avg_daily_ret, std_daily_ret, sharpe_ratio = get_portfolio_stats(port_val)\\n\\n    # Print statistics\\n    print \"Start Date:\", start_date\\n    print \"End Date:\", end_date\\n    print \"Symbols:\", symbols\\n    print \"Optimal allocations:\", allocs\\n    print \"Sharpe Ratio:\", sharpe_ratio\\n    print \"Volatility (stdev of daily returns):\", std_daily_ret\\n    print \"Average Daily Return:\", avg_daily_ret\\n    print \"Cumulative Return:\", cum_ret\\n\\n    # Compare daily portfolio value with normalized SPY\\n    normed_SPY = prices_SPY / prices_SPY.ix[0, :]\\n    df_temp = pd.concat([port_val, normed_SPY], keys=[\\'Portfolio\\', \\'SPY\\'], axis=1)\\n    plot_data(df_temp, title=\"Daily Portfolio Value and SPY\")\\n'"
      ]
     },
     "execution_count": 12,
     "metadata": {},
     "output_type": "execute_result"
    }
   ],
   "source": [
    "def optimize_portfolio(start_date, end_date, symbols):\n",
    "    dates = pd.date_range(start_date, end_date)\n",
    "    print(symbols)\n",
    "\n",
    "    prices_all = ut.get_data(symbols, dates)\n",
    "\n",
    "    prices = prices_all[symbols]  # only portfolio symbols\n",
    "    prices_SPY = prices_all['SPY']  # only SPY, for comparison later\n",
    "    print(symbols)\n",
    "\"\"\"\n",
    "    # Get optimal allocations\n",
    "    allocs = find_optimal_allocations(prices)\n",
    "    allocs = allocs / np.sum(allocs)  # normalize allocations, if they don't sum to 1.0\n",
    "\n",
    "    # Get daily portfolio value (already normalized since we use default start_val=1.0)\n",
    "    port_val = get_portfolio_value(prices, allocs)\n",
    "\n",
    "    # Get portfolio statistics (note: std_daily_ret = volatility)\n",
    "    cum_ret, avg_daily_ret, std_daily_ret, sharpe_ratio = get_portfolio_stats(port_val)\n",
    "\n",
    "    # Print statistics\n",
    "    print \"Start Date:\", start_date\n",
    "    print \"End Date:\", end_date\n",
    "    print \"Symbols:\", symbols\n",
    "    print \"Optimal allocations:\", allocs\n",
    "    print \"Sharpe Ratio:\", sharpe_ratio\n",
    "    print \"Volatility (stdev of daily returns):\", std_daily_ret\n",
    "    print \"Average Daily Return:\", avg_daily_ret\n",
    "    print \"Cumulative Return:\", cum_ret\n",
    "\n",
    "    # Compare daily portfolio value with normalized SPY\n",
    "    normed_SPY = prices_SPY / prices_SPY.ix[0, :]\n",
    "    df_temp = pd.concat([port_val, normed_SPY], keys=['Portfolio', 'SPY'], axis=1)\n",
    "    plot_data(df_temp, title=\"Daily Portfolio Value and SPY\")\n",
    "\"\"\""
   ]
  },
  {
   "cell_type": "code",
   "execution_count": 13,
   "metadata": {},
   "outputs": [
    {
     "name": "stdout",
     "output_type": "stream",
     "text": [
      "['GOOG', 'AAPL', 'GLD', 'HNZ']\n",
      "['SPY', 'GOOG', 'AAPL', 'GLD', 'HNZ']\n"
     ]
    }
   ],
   "source": [
    "if __name__ == \"__main__\":\n",
    "    start_date = '2010-01-01'\n",
    "    end_date = '2010-12-31'\n",
    "    symbols = ['GOOG', 'AAPL', 'GLD', 'HNZ']\n",
    "    optimize_portfolio(start_date, end_date, symbols)"
   ]
  },
  {
   "cell_type": "code",
   "execution_count": 3,
   "metadata": {},
   "outputs": [
    {
     "name": "stdout",
     "output_type": "stream",
     "text": [
      "yyyy-mm-dd\n"
     ]
    }
   ],
   "source": [
    "ut.date_fmt()"
   ]
  },
  {
   "cell_type": "code",
   "execution_count": null,
   "metadata": {
    "collapsed": true
   },
   "outputs": [],
   "source": []
  }
 ],
 "metadata": {
  "kernelspec": {
   "display_name": "Python 3",
   "language": "python",
   "name": "python3"
  },
  "language_info": {
   "codemirror_mode": {
    "name": "ipython",
    "version": 3
   },
   "file_extension": ".py",
   "mimetype": "text/x-python",
   "name": "python",
   "nbconvert_exporter": "python",
   "pygments_lexer": "ipython3",
   "version": "3.6.3"
  }
 },
 "nbformat": 4,
 "nbformat_minor": 2
}
