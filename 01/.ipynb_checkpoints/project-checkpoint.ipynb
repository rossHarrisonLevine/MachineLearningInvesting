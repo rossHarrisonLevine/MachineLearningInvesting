{
 "cells": [
  {
   "cell_type": "code",
   "execution_count": 31,
   "metadata": {
    "collapsed": true
   },
   "outputs": [],
   "source": [
    "import numpy as np"
   ]
  },
  {
   "cell_type": "code",
   "execution_count": 32,
   "metadata": {},
   "outputs": [
    {
     "name": "stdout",
     "output_type": "stream",
     "text": [
      "[[[  1.   1.   1.   1.   1.]\n",
      "  [  1.   1.   1.   1.   1.]\n",
      "  [  1.   1.   1.   1.   1.]\n",
      "  [  1.   1.   1.   1.   1.]\n",
      "  [  1.   1.   1.   1.   1.]]\n",
      "\n",
      " [[  0.   0.   0.   0.   0.]\n",
      "  [  0.   0.   0.   0.   0.]\n",
      "  [  0.   0.   0.   0.   0.]\n",
      "  [  0.   0.   0.   0.   0.]\n",
      "  [  0.   0.   0.   0.   0.]]\n",
      "\n",
      " [[ 13.  83.  66.  29.   2.]\n",
      "  [ 92.  70.   7.  62.  67.]\n",
      "  [ 33.  16.  85.  67.  60.]\n",
      "  [ 71.  95.   0.  59.  50.]\n",
      "  [ 74.  99.  76.  55.  19.]]]\n"
     ]
    }
   ],
   "source": [
    "one = np.ones([5,5], dtype = np.int8)\n",
    "zero = np.zeros([5,5])\n",
    "rand = np.random.randint(0,high=100,size=(5,5))\n",
    "ary = np.array([one,zero,rand])\n",
    "print(ary)"
   ]
  },
  {
   "cell_type": "code",
   "execution_count": 33,
   "metadata": {},
   "outputs": [],
   "source": [
    "ary[0,0:6,0:6] = np.ones([5,5], dtype = np.int8)"
   ]
  },
  {
   "cell_type": "code",
   "execution_count": 34,
   "metadata": {},
   "outputs": [
    {
     "name": "stdout",
     "output_type": "stream",
     "text": [
      "1.0\n"
     ]
    }
   ],
   "source": [
    "type(ary[0,0,0])\n",
    "print(ary[0,0,0])"
   ]
  },
  {
   "cell_type": "code",
   "execution_count": null,
   "metadata": {
    "collapsed": true
   },
   "outputs": [],
   "source": []
  },
  {
   "cell_type": "code",
   "execution_count": null,
   "metadata": {
    "collapsed": true
   },
   "outputs": [],
   "source": []
  }
 ],
 "metadata": {
  "kernelspec": {
   "display_name": "Python 3",
   "language": "python",
   "name": "python3"
  },
  "language_info": {
   "codemirror_mode": {
    "name": "ipython",
    "version": 3
   },
   "file_extension": ".py",
   "mimetype": "text/x-python",
   "name": "python",
   "nbconvert_exporter": "python",
   "pygments_lexer": "ipython3",
   "version": "3.5.4"
  }
 },
 "nbformat": 4,
 "nbformat_minor": 2
}
