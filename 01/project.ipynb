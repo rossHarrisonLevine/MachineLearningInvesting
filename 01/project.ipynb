{
 "cells": [
  {
   "cell_type": "code",
   "execution_count": 187,
   "metadata": {
    "collapsed": true
   },
   "outputs": [],
   "source": [
    "import numpy as np\n",
    "import matplotlib.pyplot as plt"
   ]
  },
  {
   "cell_type": "code",
   "execution_count": 188,
   "metadata": {},
   "outputs": [
    {
     "name": "stdout",
     "output_type": "stream",
     "text": [
      "[[[  1.   1.   1.   1.   1.]\n",
      "  [  1.   1.   1.   1.   1.]\n",
      "  [  1.   1.   1.   1.   1.]\n",
      "  [  1.   1.   1.   1.   1.]\n",
      "  [  1.   1.   1.   1.   1.]]\n",
      "\n",
      " [[  0.   0.   0.   0.   0.]\n",
      "  [  0.   0.   0.   0.   0.]\n",
      "  [  0.   0.   0.   0.   0.]\n",
      "  [  0.   0.   0.   0.   0.]\n",
      "  [  0.   0.   0.   0.   0.]]\n",
      "\n",
      " [[ 95.  11.  81.  70.  63.]\n",
      "  [ 87.  75.   9.  77.  40.]\n",
      "  [  4.  63.  40.  60.  92.]\n",
      "  [ 64.   5.  12.  93.  40.]\n",
      "  [ 49.  83.   8.  29.  59.]]]\n"
     ]
    }
   ],
   "source": [
    "#3\n",
    "np.random.seed(101)\n",
    "one = np.ones([5,5])\n",
    "zero = np.zeros([5,5])\n",
    "rand = np.random.randint(0,high=100,size=(5,5))\n",
    "ary = np.array([one,zero,rand])\n",
    "print(ary)"
   ]
  },
  {
   "cell_type": "code",
   "execution_count": 189,
   "metadata": {},
   "outputs": [
    {
     "name": "stdout",
     "output_type": "stream",
     "text": [
      "[[ 1.  1.  1.  1.  1.]\n",
      " [ 1.  1.  1.  1.  1.]\n",
      " [ 1.  1.  1.  1.  1.]\n",
      " [ 1.  1.  1.  1.  1.]\n",
      " [ 1.  1.  1.  1.  1.]]\n",
      "[[[  1.   1.]\n",
      "  [  1.   1.]]\n",
      "\n",
      " [[  0.   0.]\n",
      "  [  0.   0.]]\n",
      "\n",
      " [[ 93.  40.]\n",
      "  [ 29.  59.]]]\n",
      "[[[  0.   1.   0.   1.   0.]\n",
      "  [  1.   0.   1.   0.   1.]\n",
      "  [  0.   1.   0.   1.   0.]\n",
      "  [  1.   0.   1.   0.   1.]\n",
      "  [  0.   1.   0.   1.   0.]]\n",
      "\n",
      " [[  0.   0.   0.   0.   0.]\n",
      "  [  0.   0.   0.   0.   0.]\n",
      "  [  0.   0.   0.   0.   0.]\n",
      "  [  0.   0.   0.   0.   0.]\n",
      "  [  0.   0.   0.   0.   0.]]\n",
      "\n",
      " [[ 95.  11.  81.  70.  63.]\n",
      "  [ 87.  75.   9.  77.  40.]\n",
      "  [  4.  63.  40.  60.  92.]\n",
      "  [ 64.   5.  12.  93.  40.]\n",
      "  [ 49.  83.   8.  29.  59.]]]\n"
     ]
    }
   ],
   "source": [
    "#4\n",
    "print(ary[0])\n",
    "print(ary[0:3,-2:,-2:])\n",
    "ary[0, 0:5:2, 0:5:2] = 0\n",
    "ary[0, 1:5:2, 1:5:2] = 0\n",
    "print(ary)"
   ]
  },
  {
   "cell_type": "code",
   "execution_count": 190,
   "metadata": {},
   "outputs": [
    {
     "name": "stdout",
     "output_type": "stream",
     "text": [
      "[[95 11 81 70 63]\n",
      " [87 75  9 77 40]\n",
      " [ 4 63 40 60 92]\n",
      " [64  5 12 93 40]\n",
      " [49 83  8 29 59]]\n",
      "1309\n",
      "95\n",
      "[ 64.   57.6  51.8  42.8  45.6]\n",
      "[11  9 40  4 40  5 12 40 49  8 29]\n",
      "[[95 52 81 70 63]\n",
      " [87 75 52 77 52]\n",
      " [52 63 52 60 92]\n",
      " [64 52 52 93 52]\n",
      " [52 83 52 52 59]]\n"
     ]
    }
   ],
   "source": [
    "#5\n",
    "print(rand)\n",
    "print(rand.sum())\n",
    "print(rand.max())\n",
    "print(rand.mean(axis=1))\n",
    "mean = rand.mean()\n",
    "print(rand[rand<mean])\n",
    "rand[rand<mean]=mean\n",
    "print(rand)"
   ]
  },
  {
   "cell_type": "code",
   "execution_count": 232,
   "metadata": {},
   "outputs": [
    {
     "name": "stdout",
     "output_type": "stream",
     "text": [
      "[15 30 45 60]\n",
      "[ 5 10 15 20]\n",
      "[ 2.  2.  2.  2.]\n",
      "[ 50 200 450 800]\n",
      "1500\n"
     ]
    }
   ],
   "source": [
    "#6\n",
    "a=np.array([10,20,30,40])\n",
    "b=np.array([5,10,15,20])\n",
    "\n",
    "print(a+b)\n",
    "print(a-b)\n",
    "print(a/b)\n",
    "print(a*b)\n",
    "print(a.dot(b))"
   ]
  },
  {
   "cell_type": "code",
   "execution_count": 299,
   "metadata": {
    "collapsed": true
   },
   "outputs": [],
   "source": [
    "#bonus\n",
    "aapl = np.genfromtxt('data/AAPL.csv', delimiter=',')\n",
    "spy = np.genfromtxt('data/SPY.csv', delimiter=',')\n",
    "cost = np.genfromtxt('data/COST.csv', delimiter=',')"
   ]
  },
  {
   "cell_type": "code",
   "execution_count": 303,
   "metadata": {},
   "outputs": [
    {
     "name": "stdout",
     "output_type": "stream",
     "text": [
      "[[  1.           0.98557692   1.03044872 ...,  26.55208333  26.46594551\n",
      "   26.83453526]\n",
      " [  1.           1.00079302   1.01594854 ...,   1.2645167    1.26804124\n",
      "    1.27227068]\n",
      " [  1.           1.03983051   1.04449153 ...,   2.12817797   2.10847458\n",
      "    2.1375    ]]\n"
     ]
    }
   ],
   "source": [
    "prices = np.array([(aapl[1:,6])[::-1], (spy[1:,6])[::-1], (cost[1:,6])[::-1]])\n",
    "div = prices[0:, 0]\n",
    "norm = prices / div[:,None]\n",
    "print(norm)"
   ]
  },
  {
   "cell_type": "code",
   "execution_count": 310,
   "metadata": {},
   "outputs": [
    {
     "name": "stdout",
     "output_type": "stream",
     "text": [
      "[[ 0.2         0.19711538  0.20608974 ...,  5.31041667  5.2931891\n",
      "   5.36690705]\n",
      " [ 0.6         0.60047581  0.60956913 ...,  0.75871002  0.76082474\n",
      "   0.76336241]\n",
      " [ 0.1         0.10398305  0.10444915 ...,  0.2128178   0.21084746  0.21375   ]]\n"
     ]
    }
   ],
   "source": [
    "allocs = np.array([.2,.6,.1])\n",
    "alloced = norm * allocs[:,None]\n",
    "print(alloced)"
   ]
  },
  {
   "cell_type": "code",
   "execution_count": 311,
   "metadata": {},
   "outputs": [
    {
     "name": "stdout",
     "output_type": "stream",
     "text": [
      "[[   40.            39.42307692    41.21794872 ...,  1062.08333333\n",
      "   1058.63782051  1073.38141026]\n",
      " [  360.           360.28548771   365.74147502 ...,   455.2260111\n",
      "    456.49484536   458.01744647]\n",
      " [   10.            10.39830508    10.44491525 ...,    21.28177966\n",
      "     21.08474576    21.375     ]]\n"
     ]
    }
   ],
   "source": [
    "start_val = np.array([200,600,100])\n",
    "pos_vals = alloced*start_val[:,None]\n",
    "print(pos_vals)"
   ]
  },
  {
   "cell_type": "code",
   "execution_count": 307,
   "metadata": {},
   "outputs": [
    {
     "name": "stdout",
     "output_type": "stream",
     "text": [
      "[  410.           410.10686972   417.40433899 ...,  1538.5911241\n",
      "  1536.21741164  1552.77385673]\n"
     ]
    }
   ],
   "source": [
    "port_val = pos_vals.sum(axis=0)\n",
    "print(port_val)"
   ]
  },
  {
   "cell_type": "code",
   "execution_count": 309,
   "metadata": {},
   "outputs": [
    {
     "data": {
      "text/plain": [
       "(3175,)"
      ]
     },
     "execution_count": 309,
     "metadata": {},
     "output_type": "execute_result"
    }
   ],
   "source": [
    "np.shape(port_val)"
   ]
  },
  {
   "cell_type": "code",
   "execution_count": null,
   "metadata": {
    "collapsed": true
   },
   "outputs": [],
   "source": []
  }
 ],
 "metadata": {
  "kernelspec": {
   "display_name": "Python 3",
   "language": "python",
   "name": "python3"
  },
  "language_info": {
   "codemirror_mode": {
    "name": "ipython",
    "version": 3
   },
   "file_extension": ".py",
   "mimetype": "text/x-python",
   "name": "python",
   "nbconvert_exporter": "python",
   "pygments_lexer": "ipython3",
   "version": "3.5.4"
  }
 },
 "nbformat": 4,
 "nbformat_minor": 2
}
