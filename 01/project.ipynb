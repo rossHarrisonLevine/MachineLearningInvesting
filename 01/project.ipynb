{
 "cells": [
  {
   "cell_type": "code",
   "execution_count": 56,
   "metadata": {
    "collapsed": true
   },
   "outputs": [],
   "source": [
    "import numpy as np"
   ]
  },
  {
   "cell_type": "code",
   "execution_count": 57,
   "metadata": {},
   "outputs": [
    {
     "name": "stdout",
     "output_type": "stream",
     "text": [
      "[[[  1.   1.   1.   1.   1.]\n",
      "  [  1.   1.   1.   1.   1.]\n",
      "  [  1.   1.   1.   1.   1.]\n",
      "  [  1.   1.   1.   1.   1.]\n",
      "  [  1.   1.   1.   1.   1.]]\n",
      "\n",
      " [[  0.   0.   0.   0.   0.]\n",
      "  [  0.   0.   0.   0.   0.]\n",
      "  [  0.   0.   0.   0.   0.]\n",
      "  [  0.   0.   0.   0.   0.]\n",
      "  [  0.   0.   0.   0.   0.]]\n",
      "\n",
      " [[ 99.  73.  89.  10.  58.]\n",
      "  [ 53.  24.  50.  12.  58.]\n",
      "  [ 33.  78.  48.  25.  54.]\n",
      "  [ 82.  64.   7.  10.  32.]\n",
      "  [ 57.  55.  46.  56.  99.]]]\n"
     ]
    }
   ],
   "source": [
    "one = np.ones([5,5], dtype=int)\n",
    "zero = np.zeros([5,5])\n",
    "rand = np.random.randint(0,high=100,size=(5,5))\n",
    "ary = np.array([one,zero,rand])\n",
    "print(ary)"
   ]
  },
  {
   "cell_type": "code",
   "execution_count": null,
   "metadata": {},
   "outputs": [],
   "source": []
  },
  {
   "cell_type": "code",
   "execution_count": 58,
   "metadata": {},
   "outputs": [
    {
     "name": "stdout",
     "output_type": "stream",
     "text": [
      "[[[  1.   1.   1.   1.   1.]\n",
      "  [  1.   1.   1.   1.   1.]\n",
      "  [  1.   1.   1.   1.   1.]\n",
      "  [  1.   1.   1.   1.   1.]\n",
      "  [  1.   1.   1.   1.   1.]]\n",
      "\n",
      " [[  0.   0.   0.   0.   0.]\n",
      "  [  0.   0.   0.   0.   0.]\n",
      "  [  0.   0.   0.   0.   0.]\n",
      "  [  0.   0.   0.   0.   0.]\n",
      "  [  0.   0.   0.   0.   0.]]\n",
      "\n",
      " [[ 99.  73.  89.  10.  58.]\n",
      "  [ 53.  24.  50.  12.  58.]\n",
      "  [ 33.  78.  48.  25.  54.]\n",
      "  [ 82.  64.   7.  10.  32.]\n",
      "  [ 57.  55.  46.  56.  99.]]]\n"
     ]
    }
   ],
   "source": [
    "type(ary[0,0,0])\n",
    "print(ary[])"
   ]
  },
  {
   "cell_type": "code",
   "execution_count": null,
   "metadata": {
    "collapsed": true
   },
   "outputs": [],
   "source": []
  },
  {
   "cell_type": "code",
   "execution_count": null,
   "metadata": {
    "collapsed": true
   },
   "outputs": [],
   "source": []
  }
 ],
 "metadata": {
  "kernelspec": {
   "display_name": "Python 3",
   "language": "python",
   "name": "python3"
  },
  "language_info": {
   "codemirror_mode": {
    "name": "ipython",
    "version": 3
   },
   "file_extension": ".py",
   "mimetype": "text/x-python",
   "name": "python",
   "nbconvert_exporter": "python",
   "pygments_lexer": "ipython3",
   "version": "3.5.4"
  }
 },
 "nbformat": 4,
 "nbformat_minor": 2
}
