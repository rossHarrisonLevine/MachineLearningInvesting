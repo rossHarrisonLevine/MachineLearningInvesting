{
 "cells": [
  {
   "cell_type": "code",
   "execution_count": 33,
   "metadata": {
    "collapsed": true
   },
   "outputs": [],
   "source": [
    "import pandas as pd"
   ]
  },
  {
   "cell_type": "code",
   "execution_count": 34,
   "metadata": {
    "collapsed": true
   },
   "outputs": [],
   "source": [
    "def test_run():\n",
    "    start_date='2017-11-20'\n",
    "    end_date='2017-11-30'\n",
    "    dates=pd.date_range(start_date,end_date)\n",
    "    \n",
    "    #create empty df\n",
    "    df1=pd.DataFrame(index=dates)\n",
    "    \n",
    "    #create spy df, spy will tell weekends. index col ensures that\n",
    "    #SPY is indexed by it's dates rather than ints. Parse dates\n",
    "    #makes the dates into date objects\n",
    "    dfspy = pd.read_csv(\"data/SPY.csv\",\n",
    "                        usecols=['Date','Adj Close'],\n",
    "                        na_values=['nan'],\n",
    "                        index_col=\"Date\",parse_dates=True)\n",
    "    dfspy = dfspy.rename(columns={'Adj Close': 'SPY'})\n",
    "    #join empty with data\n",
    "    df1 = df1.join(dfspy,how='inner')\n",
    "    #drop nan rows\n",
    "    #Now to add more stocks\n",
    "    symbols = ['GOOG', 'IBM', 'GLD']\n",
    "    \n",
    "    #for loop to read in all data\n",
    "    for symbol in symbols:\n",
    "        tmp_df = pd.read_csv(\"data/{}.csv\".format(symbol),\n",
    "                            usecols=['Date','Adj Close'],\n",
    "                            na_values=['nan'],\n",
    "                            index_col=\"Date\",parse_dates=True)\n",
    "        #if every column is named Adj Close, then that's a problem\n",
    "        #fix it by naming adj close $(symbol)\n",
    "        tmp_df = tmp_df.rename(columns={'Adj Close': symbol})\n",
    "        df1 = df1.join(tmp_df)\n",
    "    print(df1)\n",
    "    print(dfspy)"
   ]
  },
  {
   "cell_type": "code",
   "execution_count": 35,
   "metadata": {
    "scrolled": true
   },
   "outputs": [
    {
     "name": "stdout",
     "output_type": "stream",
     "text": [
      "Empty DataFrame\n",
      "Columns: [SPY, GOOG, IBM, GLD]\n",
      "Index: []\n",
      "               SPY\n",
      "Date              \n",
      "2012-09-12  144.39\n",
      "2012-09-11  143.91\n",
      "2012-09-10  143.51\n",
      "2012-09-07  144.33\n",
      "2012-09-06  143.77\n",
      "2012-09-05  140.91\n",
      "2012-09-04  141.03\n",
      "2012-08-31  141.16\n",
      "2012-08-30  140.49\n",
      "2012-08-29  141.51\n",
      "2012-08-28  141.40\n",
      "2012-08-27  141.54\n",
      "2012-08-24  141.51\n",
      "2012-08-23  140.66\n",
      "2012-08-22  141.82\n",
      "2012-08-21  141.76\n",
      "2012-08-20  142.19\n",
      "2012-08-17  142.18\n",
      "2012-08-16  141.99\n",
      "2012-08-15  140.95\n",
      "2012-08-14  140.79\n",
      "2012-08-13  140.77\n",
      "2012-08-10  140.84\n",
      "2012-08-09  140.61\n",
      "2012-08-08  140.49\n",
      "2012-08-07  140.32\n",
      "2012-08-06  139.62\n",
      "2012-08-03  139.35\n",
      "2012-08-02  136.64\n",
      "2012-08-01  137.59\n",
      "...            ...\n",
      "2000-03-14  110.02\n",
      "2000-03-13  111.60\n",
      "2000-03-10  112.84\n",
      "2000-03-09  113.44\n",
      "2000-03-08  110.22\n",
      "2000-03-07  110.36\n",
      "2000-03-06  112.53\n",
      "2000-03-03  113.64\n",
      "2000-03-02  111.55\n",
      "2000-03-01  111.48\n",
      "2000-02-29  110.67\n",
      "2000-02-28  109.62\n",
      "2000-02-25  107.36\n",
      "2000-02-24  107.75\n",
      "2000-02-23  109.96\n",
      "2000-02-22  108.68\n",
      "2000-02-18  108.95\n",
      "2000-02-17  111.35\n",
      "2000-02-16  111.93\n",
      "2000-02-15  113.60\n",
      "2000-02-14  112.33\n",
      "2000-02-11  111.68\n",
      "2000-02-10  113.99\n",
      "2000-02-09  113.76\n",
      "2000-02-08  116.20\n",
      "2000-02-07  114.65\n",
      "2000-02-04  114.82\n",
      "2000-02-03  115.30\n",
      "2000-02-02  113.58\n",
      "2000-02-01  113.49\n",
      "\n",
      "[3175 rows x 1 columns]\n"
     ]
    }
   ],
   "source": [
    "if __name__ == \"__main__\":\n",
    "    test_run()"
   ]
  },
  {
   "cell_type": "code",
   "execution_count": 36,
   "metadata": {
    "collapsed": true
   },
   "outputs": [],
   "source": [
    "#utility fctns\n",
    "import os"
   ]
  },
  {
   "cell_type": "code",
   "execution_count": 37,
   "metadata": {
    "collapsed": true
   },
   "outputs": [],
   "source": [
    "def symbol_to_path(symbol,base_dir=\"data\"):\n",
    "    #return path to cvs\n",
    "    return os.path.join(base_dir,\"{}.csv\".format(str(symbol)))"
   ]
  },
  {
   "cell_type": "code",
   "execution_count": 38,
   "metadata": {
    "collapsed": true
   },
   "outputs": [],
   "source": [
    "def get_data(symbols,dates):\n",
    "    df = pd.DataFrame(index=dates)\n",
    "    if 'SPY' not in symbols: #add SPY for referanece\n",
    "        symbols.insert(0,'SPY')\n",
    "    \n",
    "    for symbol in symbols:\n",
    "        tmp_df = pd.read_csv(symbol_to_path(symbol),\n",
    "                            usecols=['Date','Adj Close'],\n",
    "                            na_values=['nan'],\n",
    "                            index_col=\"Date\",parse_dates=True)\n",
    "        tmp_df = tmp_df.rename(columns={'Adj Close': symbol})\n",
    "        df = df.join(tmp_df)\n",
    "        if symbol == 'SPY':\n",
    "            df = df.dropna(subset=['SPY'])\n",
    "    return df"
   ]
  },
  {
   "cell_type": "code",
   "execution_count": 39,
   "metadata": {},
   "outputs": [
    {
     "name": "stdout",
     "output_type": "stream",
     "text": [
      "Empty DataFrame\n",
      "Columns: [SPY, GOOG, IBM, GLD]\n",
      "Index: []\n"
     ]
    }
   ],
   "source": [
    "if __name__ == \"__main__\":\n",
    "    start_date='2017-11-20'\n",
    "    end_date='2017-11-30'\n",
    "    dates=pd.date_range(start_date,end_date)\n",
    "    \n",
    "    symbols = ['GOOG', 'IBM', 'GLD']\n",
    "    \n",
    "    df = get_data(symbols, dates)\n",
    "    print(df.head())"
   ]
  },
  {
   "cell_type": "code",
   "execution_count": 21,
   "metadata": {
    "collapsed": true
   },
   "outputs": [],
   "source": [
    "#plotting multiple functions"
   ]
  },
  {
   "cell_type": "code",
   "execution_count": 22,
   "metadata": {
    "collapsed": true
   },
   "outputs": [],
   "source": [
    "import matplotlib.pyplot as plt"
   ]
  },
  {
   "cell_type": "code",
   "execution_count": 27,
   "metadata": {
    "collapsed": true
   },
   "outputs": [],
   "source": [
    "def plot_data(df, title=\"Stock Prices\"):\n",
    "    ax = df.plot(title=title)\n",
    "    ax.set_xlabel(\"Date\")\n",
    "    ax.set_ylabel(\"Price\")\n",
    "    plt.show()"
   ]
  },
  {
   "cell_type": "code",
   "execution_count": 30,
   "metadata": {},
   "outputs": [
    {
     "data": {
      "image/png": "[encoded data removed]",
      "text/plain": [
       "<matplotlib.figure.Figure at 0x10d179a90>"
      ]
     },
     "metadata": {},
     "output_type": "display_data"
    }
   ],
   "source": [
    "if __name__ == \"__main__\":\n",
    "    start_date='2008-10-1'\n",
    "    end_date='2009-11-30'\n",
    "    dates=pd.date_range(start_date,end_date)\n",
    "    \n",
    "    symbols = ['GOOG', 'IBM', 'GLD']\n",
    "    \n",
    "    df = get_data(symbols, dates)\n",
    "    plot_data(df)"
   ]
  },
  {
   "cell_type": "code",
   "execution_count": 31,
   "metadata": {
    "collapsed": true
   },
   "outputs": [],
   "source": [
    "def plot_selected(df,columns,start_index,end_index):\n",
    "    #given the start and end dates, plot the relevant info\n",
    "    plot_data(df.ix[start_index:end_index,columns], title=\"Selected Data\")"
   ]
  },
  {
   "cell_type": "code",
   "execution_count": 32,
   "metadata": {
    "collapsed": true
   },
   "outputs": [],
   "source": [
    "def normalize_data(df):\n",
    "    return df / df.ix[0,:]"
   ]
  },
  {
   "cell_type": "code",
   "execution_count": null,
   "metadata": {
    "collapsed": true
   },
   "outputs": [],
   "source": []
  }
 ],
 "metadata": {
  "kernelspec": {
   "display_name": "Python 3",
   "language": "python",
   "name": "python3"
  },
  "language_info": {
   "codemirror_mode": {
    "name": "ipython",
    "version": 3
   },
   "file_extension": ".py",
   "mimetype": "text/x-python",
   "name": "python",
   "nbconvert_exporter": "python",
   "pygments_lexer": "ipython3",
   "version": "3.5.4"
  }
 },
 "nbformat": 4,
 "nbformat_minor": 2
}
